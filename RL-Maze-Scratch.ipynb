{
 "cells": [
  {
   "cell_type": "code",
   "execution_count": 55,
   "metadata": {},
   "outputs": [],
   "source": [
    "from selenium import webdriver\r\n",
    "from selenium.webdriver.common.by import By\r\n",
    "from selenium.webdriver.common.keys import Keys\r\n",
    "from selenium.webdriver.support.ui import Select\r\n",
    "import os\r\n",
    "import glob\r\n",
    "import time\r\n",
    "from PIL import Image\r\n",
    "import numpy as np"
   ]
  },
  {
   "cell_type": "code",
   "execution_count": 2,
   "metadata": {},
   "outputs": [],
   "source": [
    "# # Chromedriver path\r\n",
    "# PATH = 'D:\\Program Files (x86)\\chromedriver.exe'\r\n",
    "\r\n",
    "# # Path for downloads\r\n",
    "# DOWNLOAD_PATH = 'D:\\Github\\Work\\RL-Maze\\maze'\r\n",
    "# chrome_options = webdriver.ChromeOptions()\r\n",
    "# prefs = {'download.default_directory' : DOWNLOAD_PATH}\r\n",
    "# chrome_options.add_experimental_option('prefs', prefs)\r\n",
    "\r\n",
    "# # Create the driver\r\n",
    "# driver = webdriver.Chrome(executable_path=PATH, options=chrome_options)\r\n",
    "\r\n",
    "# # Open the page\r\n",
    "# driver.get('http://www.mazegenerator.net/')\r\n",
    "\r\n",
    "# # Insert the width of the maze\r\n",
    "# maze_width = '5'\r\n",
    "# width = driver.find_element(By.ID, \"S1WidthTextBox\")\r\n",
    "# width.clear()\r\n",
    "# width.send_keys(maze_width)\r\n",
    "\r\n",
    "# # Insert the height of the maze\r\n",
    "# maze_height = '5'\r\n",
    "# height = driver.find_element(By.ID, \"S1HeightTextBox\")\r\n",
    "# height.clear()\r\n",
    "# height.send_keys(maze_height + Keys.ENTER)\r\n",
    "\r\n",
    "# # Choose the appropriate format to export\r\n",
    "# format_list = Select(driver.find_element(By.ID, 'FileFormatSelectorList'))\r\n",
    "# format_list.select_by_value('9')\r\n",
    "\r\n",
    "# # Download the file\r\n",
    "# download = driver.find_element(By.ID, 'DownloadFileButton')\r\n",
    "# download.click()\r\n",
    "\r\n",
    "# time.sleep(6)\r\n",
    "\r\n",
    "# driver.quit()"
   ]
  },
  {
   "cell_type": "code",
   "execution_count": 51,
   "metadata": {},
   "outputs": [],
   "source": [
    "def get_maze(PATH, DOWNLOAD_PATH):\r\n",
    "    # Set the download path\r\n",
    "    # https://stackoverflow.com/a/43789674\r\n",
    "    chrome_options = webdriver.ChromeOptions()\r\n",
    "    prefs = {'download.default_directory' : DOWNLOAD_PATH}\r\n",
    "    chrome_options.add_experimental_option('prefs', prefs)\r\n",
    "\r\n",
    "    # Create the driver\r\n",
    "    driver = webdriver.Chrome(executable_path=PATH, options=chrome_options)\r\n",
    "\r\n",
    "    # Open the page\r\n",
    "    driver.get('http://www.mazegenerator.net/')\r\n",
    "\r\n",
    "    # Insert the width of the maze\r\n",
    "    maze_width = '5'\r\n",
    "    width = driver.find_element(By.ID, \"S1WidthTextBox\")\r\n",
    "    width.clear()\r\n",
    "    width.send_keys(maze_width)\r\n",
    "\r\n",
    "    # Insert the height of the maze\r\n",
    "    maze_height = '5'\r\n",
    "    height = driver.find_element(By.ID, \"S1HeightTextBox\")\r\n",
    "    height.clear()\r\n",
    "    height.send_keys(maze_height + Keys.ENTER)\r\n",
    "\r\n",
    "    # Choose the appropriate format to export\r\n",
    "    # https://stackoverflow.com/a/28613320\r\n",
    "    format_list = Select(driver.find_element(By.ID, 'FileFormatSelectorList'))\r\n",
    "    format_list.select_by_value('9')\r\n",
    "\r\n",
    "    # Download the file\r\n",
    "    download = driver.find_element(By.ID, 'DownloadFileButton')\r\n",
    "    download.click()\r\n",
    "\r\n",
    "    # Wait 3 seconds to let the download finish\r\n",
    "    time.sleep(3)\r\n",
    "\r\n",
    "    # Close the window\r\n",
    "    driver.quit()"
   ]
  },
  {
   "cell_type": "code",
   "execution_count": 52,
   "metadata": {},
   "outputs": [],
   "source": [
    "# # Chrome driver path\r\n",
    "# PATH = 'D:\\Program Files (x86)\\chromedriver.exe'\r\n",
    "\r\n",
    "# # Download path\r\n",
    "# DOWNLOAD_PATH = 'D:\\Github\\Work\\RL-Maze\\maze'\r\n",
    "\r\n",
    "# # Download the image\r\n",
    "# get_maze(PATH=PATH, DOWNLOAD_PATH=DOWNLOAD_PATH)"
   ]
  },
  {
   "cell_type": "code",
   "execution_count": 53,
   "metadata": {},
   "outputs": [],
   "source": [
    "# # Get current file name\r\n",
    "# for f in files:\r\n",
    "#     file_name = f\r\n",
    "\r\n",
    "# # Rename the file\r\n",
    "# NEW_NAME = 'D:\\Github\\\\Work\\RL-Maze\\\\maze\\maze.png'\r\n",
    "# os.rename(file_name, NEW_NAME)"
   ]
  },
  {
   "cell_type": "code",
   "execution_count": 42,
   "metadata": {},
   "outputs": [],
   "source": [
    "# # Delete old PNG\r\n",
    "# files = glob.glob('D:\\Github\\Work\\RL-Maze\\maze\\*')\r\n",
    "# for f in files:\r\n",
    "#     os.remove(f)\r\n"
   ]
  },
  {
   "cell_type": "code",
   "execution_count": 61,
   "metadata": {},
   "outputs": [],
   "source": [
    "# Delete old PNG\r\n",
    "# https://stackoverflow.com/a/5756937\r\n",
    "files = glob.glob('D:\\Github\\Work\\RL-Maze\\maze\\*')\r\n",
    "for f in files:\r\n",
    "    os.remove(f)\r\n",
    "\r\n",
    "\r\n",
    "# Download the new maze\r\n",
    "# Chrome driver path\r\n",
    "PATH = 'D:\\Program Files (x86)\\chromedriver.exe'\r\n",
    "\r\n",
    "# Download path\r\n",
    "DOWNLOAD_PATH = 'D:\\Github\\Work\\RL-Maze\\maze'\r\n",
    "\r\n",
    "# Download the image\r\n",
    "get_maze(PATH=PATH, DOWNLOAD_PATH=DOWNLOAD_PATH)\r\n",
    "\r\n",
    "\r\n",
    "# Rename the maze\r\n",
    "# Get current file name\r\n",
    "files = glob.glob('D:\\Github\\Work\\RL-Maze\\maze\\*')\r\n",
    "for f in files:\r\n",
    "    file_name = f\r\n",
    "\r\n",
    "# Rename the file\r\n",
    "NEW_NAME = 'D:\\Github\\Work\\RL-Maze\\maze\\maze.png'\r\n",
    "os.rename(file_name, NEW_NAME)\r\n",
    "\r\n",
    "\r\n",
    "# Load the maze into python\r\n",
    "im = Image.open(NEW_NAME)\r\n",
    "im.show()"
   ]
  },
  {
   "cell_type": "code",
   "execution_count": 60,
   "metadata": {},
   "outputs": [],
   "source": [
    "# Load the maze into python\r\n",
    "# im = Image.open(r'D:\\Github\\Work\\RL-Maze\\maze\\maze.png')\r\n",
    "\r\n",
    "# im.show()\r\n",
    "\r\n"
   ]
  },
  {
   "cell_type": "code",
   "execution_count": null,
   "metadata": {},
   "outputs": [],
   "source": [
    "# Open the maze image and make greyscale, and get its dimensions\r\n",
    "im = Image.open(NEW_NAME).convert('L')\r\n",
    "\r\n",
    "# Ensure all black pixels are 0 and all white pixels are 1\r\n",
    "binary = im.point(lambda p: p > 128 and 1)\r\n",
    "# binary = im.point(lambda p: p <= 128 and 0)\r\n",
    "\r\n",
    "# Save the size\r\n",
    "w, h = binary.size"
   ]
  },
  {
   "cell_type": "code",
   "execution_count": 56,
   "metadata": {},
   "outputs": [
    {
     "data": {
      "text/plain": "'D:\\\\Github\\\\Work\\\\RL-Maze\\\\maze\\\\maze.png'"
     },
     "execution_count": 56,
     "metadata": {},
     "output_type": "execute_result"
    }
   ],
   "source": [
    "NEW_NAME"
   ]
  },
  {
   "cell_type": "markdown",
   "metadata": {},
   "source": [
    "## Step() function\r\n",
    "Inputs: row, column\r\n",
    "\r\n",
    "Outputs: row, column, reward"
   ]
  },
  {
   "cell_type": "code",
   "execution_count": null,
   "metadata": {},
   "outputs": [],
   "source": [
    "# step function\r\n",
    "up = self.environment[]\r\n",
    "\r\n"
   ]
  }
 ],
 "metadata": {
  "kernelspec": {
   "display_name": "Python 3.7.0 64-bit",
   "metadata": {
    "interpreter": {
     "hash": "8b6829b6774254284380bbba7b1c164c6400b2121f660f82c852a2544be5ad7b"
    }
   },
   "name": "python3"
  },
  "language_info": {
   "codemirror_mode": {
    "name": "ipython",
    "version": 3
   },
   "file_extension": ".py",
   "mimetype": "text/x-python",
   "name": "python",
   "nbconvert_exporter": "python",
   "pygments_lexer": "ipython3",
   "version": "3.7.0-final"
  },
  "orig_nbformat": 2
 },
 "nbformat": 4,
 "nbformat_minor": 2
}